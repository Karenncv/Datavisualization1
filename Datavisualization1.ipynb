{
  "nbformat": 4,
  "nbformat_minor": 0,
  "metadata": {
    "colab": {
      "name": "Datavisualization1.ipynb",
      "provenance": [],
      "toc_visible": true,
      "authorship_tag": "ABX9TyO6fQll5+vrU3Xjc9P23xg/",
      "include_colab_link": true
    },
    "kernelspec": {
      "name": "python3",
      "display_name": "Python 3"
    },
    "language_info": {
      "name": "python"
    }
  },
  "cells": [
    {
      "cell_type": "markdown",
      "metadata": {
        "id": "view-in-github",
        "colab_type": "text"
      },
      "source": [
        "<a href=\"https://colab.research.google.com/github/Karenncv/Datavisualization1/blob/main/Datavisualization1.ipynb\" target=\"_parent\"><img src=\"https://colab.research.google.com/assets/colab-badge.svg\" alt=\"Open In Colab\"/></a>"
      ]
    },
    {
      "cell_type": "markdown",
      "source": [
        "# Heading level 1 \n"
      ],
      "metadata": {
        "id": "NrMmZQQ_VLPk"
      }
    },
    {
      "cell_type": "markdown",
      "source": [
        "## Heading level 2\n"
      ],
      "metadata": {
        "id": "96r-LcgfXSPq"
      }
    },
    {
      "cell_type": "markdown",
      "source": [
        "olllllkiol"
      ],
      "metadata": {
        "id": "YYzv07I6XfHi"
      }
    },
    {
      "cell_type": "code",
      "execution_count": null,
      "metadata": {
        "id": "1mO89J_HRS6T"
      },
      "outputs": [],
      "source": [
        ""
      ]
    }
  ]
}