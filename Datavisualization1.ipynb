{
  "nbformat": 4,
  "nbformat_minor": 0,
  "metadata": {
    "colab": {
      "name": "Datavisualization1.ipynb",
      "provenance": [],
      "toc_visible": true,
      "authorship_tag": "ABX9TyN1ylsA1L5zmdejyEJIwhGk",
      "include_colab_link": true
    },
    "kernelspec": {
      "name": "python3",
      "display_name": "Python 3"
    },
    "language_info": {
      "name": "python"
    }
  },
  "cells": [
    {
      "cell_type": "markdown",
      "metadata": {
        "id": "view-in-github",
        "colab_type": "text"
      },
      "source": [
        "<a href=\"https://colab.research.google.com/github/Karenncv/Datavisualization1/blob/main/Datavisualization1.ipynb\" target=\"_parent\"><img src=\"https://colab.research.google.com/assets/colab-badge.svg\" alt=\"Open In Colab\"/></a>"
      ]
    },
    {
      "cell_type": "markdown",
      "source": [
        "# Heading level 1 \n"
      ],
      "metadata": {
        "id": "NrMmZQQ_VLPk"
      }
    },
    {
      "cell_type": "markdown",
      "source": [
        "## Heading level 2\n"
      ],
      "metadata": {
        "id": "96r-LcgfXSPq"
      }
    },
    {
      "cell_type": "markdown",
      "source": [
        "#Text Formating \n",
        "\n",
        "## Bold \n",
        "\n",
        "**car** "
      ],
      "metadata": {
        "id": "YYzv07I6XfHi"
      }
    },
    {
      "cell_type": "markdown",
      "source": [
        "## Italics\n",
        "\n",
        "*car*\n"
      ],
      "metadata": {
        "id": "-hLNm4iKH9BY"
      }
    },
    {
      "cell_type": "markdown",
      "source": [
        "## ***Combine Bold and Italics*** \n",
        "\n",
        "***This text has bold and italics format*** **bold text**\n"
      ],
      "metadata": {
        "id": "gC2po352IfFa"
      }
    },
    {
      "cell_type": "markdown",
      "source": [
        "##Underline\n",
        "\n",
        "We dont't in this program , the underline is rerseved for links "
      ],
      "metadata": {
        "id": "QMX1qGmrJAdb"
      }
    },
    {
      "cell_type": "markdown",
      "source": [
        "#List"
      ],
      "metadata": {
        "id": "Z7D5181-MGFa"
      }
    },
    {
      "cell_type": "markdown",
      "source": [
        "\n",
        "\n",
        "\n",
        "##Unordered list \n",
        "\n",
        "**grocery list:** \n",
        "\n",
        "* rice \n",
        "* milk \n",
        "* eggs \n",
        "* coffee \n",
        "\n",
        "\n"
      ],
      "metadata": {
        "id": "I-12kQ_7KAiG"
      }
    },
    {
      "cell_type": "markdown",
      "source": [
        "## Ordered List \n",
        "\n",
        "**table Contents:**\n",
        "1. Introduccion \n",
        "2. Abstract \n",
        "3. Results \n"
      ],
      "metadata": {
        "id": "_qMTdKPgLXAD"
      }
    },
    {
      "cell_type": "markdown",
      "source": [
        "##Nested list \n",
        "\n",
        "A nested list is a list that has a other list inside  it. \n",
        "\n",
        "**For example:**\n",
        "\n",
        "1. Al\n",
        "\n",
        "     1.1 alb\n",
        "\n",
        "     1.2 mme\n",
        "\n",
        "2. BC\n",
        "\n",
        "    * B\n",
        "    \n",
        "\n"
      ],
      "metadata": {
        "id": "lKat4AopL4p7"
      }
    },
    {
      "cell_type": "markdown",
      "source": [
        "#Insert"
      ],
      "metadata": {
        "id": "gXVzPeC7QCBH"
      }
    },
    {
      "cell_type": "markdown",
      "source": [
        "##Links \n",
        "\n",
        "This use when you want to conect to external sources.\n",
        "\n",
        "https://www.lasalle.edu.co/\n",
        "\n",
        "[La Salle](https://www.lasalle.edu.co/)\n",
        "\n",
        "\n",
        "\n",
        "\n"
      ],
      "metadata": {
        "id": "G38zEEzXNa7C"
      }
    },
    {
      "cell_type": "markdown",
      "source": [
        "##Image\n",
        "\n",
        "![image](data:image/jpeg;base64,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)\n",
        " \n"
      ],
      "metadata": {
        "id": "XmmIDsx6QFVG"
      }
    }
  ]
}