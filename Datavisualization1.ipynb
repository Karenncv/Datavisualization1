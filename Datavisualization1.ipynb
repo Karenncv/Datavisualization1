{
  "nbformat": 4,
  "nbformat_minor": 0,
  "metadata": {
    "colab": {
      "name": "Datavisualization1.ipynb",
      "provenance": [],
      "toc_visible": true,
      "collapsed_sections": [],
      "authorship_tag": "ABX9TyM8CEsEjh6WS1MREU/zHcW5",
      "include_colab_link": true
    },
    "kernelspec": {
      "name": "python3",
      "display_name": "Python 3"
    },
    "language_info": {
      "name": "python"
    }
  },
  "cells": [
    {
      "cell_type": "markdown",
      "metadata": {
        "id": "view-in-github",
        "colab_type": "text"
      },
      "source": [
        "<a href=\"https://colab.research.google.com/github/Karenncv/Datavisualization1/blob/main/Datavisualization1.ipynb\" target=\"_parent\"><img src=\"https://colab.research.google.com/assets/colab-badge.svg\" alt=\"Open In Colab\"/></a>"
      ]
    },
    {
      "cell_type": "markdown",
      "source": [
        "# Heading level 1 \n"
      ],
      "metadata": {
        "id": "NrMmZQQ_VLPk"
      }
    },
    {
      "cell_type": "markdown",
      "source": [
        "## Heading level 2\n"
      ],
      "metadata": {
        "id": "96r-LcgfXSPq"
      }
    },
    {
      "cell_type": "markdown",
      "source": [
        "#Text Formating \n",
        "\n",
        "## Bold \n",
        "\n",
        "**car** "
      ],
      "metadata": {
        "id": "YYzv07I6XfHi"
      }
    },
    {
      "cell_type": "markdown",
      "source": [
        "## Italics\n",
        "\n",
        "*car*\n"
      ],
      "metadata": {
        "id": "-hLNm4iKH9BY"
      }
    },
    {
      "cell_type": "markdown",
      "source": [
        "## ***Combine Bold and Italics*** \n",
        "\n",
        "***This text has bold and italics format*** **bold text**\n"
      ],
      "metadata": {
        "id": "gC2po352IfFa"
      }
    },
    {
      "cell_type": "markdown",
      "source": [
        "##Underline\n",
        "\n",
        "We dont't in this program , the underline is rerseved for links "
      ],
      "metadata": {
        "id": "QMX1qGmrJAdb"
      }
    },
    {
      "cell_type": "markdown",
      "source": [
        "#List"
      ],
      "metadata": {
        "id": "Z7D5181-MGFa"
      }
    },
    {
      "cell_type": "markdown",
      "source": [
        "\n",
        "\n",
        "\n",
        "##Unordered list \n",
        "\n",
        "**grocery list:** \n",
        "\n",
        "* rice \n",
        "* milk \n",
        "* eggs \n",
        "* coffee \n",
        "\n",
        "\n"
      ],
      "metadata": {
        "id": "I-12kQ_7KAiG"
      }
    },
    {
      "cell_type": "markdown",
      "source": [
        "## Ordered List \n",
        "\n",
        "**table Contents:**\n",
        "1. Introduccion \n",
        "2. Abstract \n",
        "3. Results \n"
      ],
      "metadata": {
        "id": "_qMTdKPgLXAD"
      }
    },
    {
      "cell_type": "markdown",
      "source": [
        "##Nested list \n",
        "\n",
        "A nested list is a list that has a other list inside  it. \n",
        "\n",
        "**For example:**\n",
        "\n",
        "1. Al\n",
        "\n",
        "     1.1 alb\n",
        "\n",
        "     1.2 mme\n",
        "\n",
        "2. BC\n",
        "\n",
        "    * B\n",
        "    \n",
        "\n"
      ],
      "metadata": {
        "id": "lKat4AopL4p7"
      }
    },
    {
      "cell_type": "markdown",
      "source": [
        "#Insert"
      ],
      "metadata": {
        "id": "gXVzPeC7QCBH"
      }
    },
    {
      "cell_type": "markdown",
      "source": [
        "##Links \n",
        "\n",
        "This use when you want to conect to external sources.\n",
        "\n",
        "https://www.lasalle.edu.co/\n",
        "\n",
        "[La Salle](https://www.lasalle.edu.co/)\n",
        "\n",
        "\n",
        "\n",
        "\n"
      ],
      "metadata": {
        "id": "G38zEEzXNa7C"
      }
    },
    {
      "cell_type": "markdown",
      "source": [
        "##Image\n",
        "\n",
        "![image](https://encrypted-tbn0.gstatic.com/images?q=tbn:ANd9GcTh963YmVuxysC1EgLs4D2sKH8CFpZXuD19uw&usqp=CAU)\n",
        " \n"
      ],
      "metadata": {
        "id": "XmmIDsx6QFVG"
      }
    },
    {
      "cell_type": "markdown",
      "source": [
        "# **Tables**\n",
        "\n",
        "| a | b | c | d |\n",
        "|---|---|---|---|\n",
        "| 1 | 2 | 3 | 4 | \n",
        "\n"
      ],
      "metadata": {
        "id": "KQ_MN1CdGCLL"
      }
    },
    {
      "cell_type": "markdown",
      "source": [
        "| Nombres | Apellidos |\n",
        "|---------|-----------|\n",
        "| Karen   | Caicedo   | \n",
        "| Camila  | Vargas    | \n",
        "\n"
      ],
      "metadata": {
        "id": "qeWPI-4FHS7E"
      }
    },
    {
      "cell_type": "markdown",
      "source": [
        "# **Equations** \n",
        "\n",
        "## Inline equations \n",
        "\n",
        "This is the Pytagoras Theorem $C^2=a^2+b^2$  it's all \n",
        "\n",
        "LaTex\n",
        "\n",
        "$X_{1}+X{2}$\n",
        "\n",
        "\n"
      ],
      "metadata": {
        "id": "z3SITKKfH3WL"
      }
    }
  ]
}