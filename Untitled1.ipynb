{
  "nbformat": 4,
  "nbformat_minor": 0,
  "metadata": {
    "colab": {
      "provenance": [],
      "authorship_tag": "ABX9TyMaECbaW8SHodcBMv7j4IpE",
      "include_colab_link": true
    },
    "kernelspec": {
      "name": "python3",
      "display_name": "Python 3"
    },
    "language_info": {
      "name": "python"
    }
  },
  "cells": [
    {
      "cell_type": "markdown",
      "metadata": {
        "id": "view-in-github",
        "colab_type": "text"
      },
      "source": [
        "<a href=\"https://colab.research.google.com/github/Karenncv/Datavisualization1/blob/main/Untitled1.ipynb\" target=\"_parent\"><img src=\"https://colab.research.google.com/assets/colab-badge.svg\" alt=\"Open In Colab\"/></a>"
      ]
    },
    {
      "cell_type": "code",
      "source": [
        "import numpy as np"
      ],
      "metadata": {
        "id": "C_eyYCf7t2o7"
      },
      "execution_count": null,
      "outputs": []
    },
    {
      "cell_type": "code",
      "execution_count": null,
      "metadata": {
        "id": "vdZg8VKqtW1t"
      },
      "outputs": [],
      "source": [
        "#########\n",
        "# BOARD #\n",
        "#########\n",
        "\n",
        "black = np.array([2,4,6,8,10,11,13,15,17,20,22,24,26,28,29,31,33,35])\n",
        "red   = np.array([1,3,5,7,9,12,14,16,18,19,21,23,25,27,30,32,34,36])\n",
        "\n",
        "# The bet\n",
        "## Must be 'black', 'red' or ''\n",
        "color_bet  = 'black'  \n",
        "## Must be an integer from 0 to 36\n",
        "number_bet = 0\n",
        "\n",
        "# The draw\n",
        "## Generating the random number\n",
        "number = np.random.randint(low = 0, high = 37)\n",
        "\n",
        "## Checking the color\n",
        "if number == 0:\n",
        "  color = 'neutral'\n",
        "elif number in black:\n",
        "  color = 'black'\n",
        "else:\n",
        "  color = 'red'\n",
        "\n",
        "# The results\n",
        "## Number result\n",
        "print('Results for your number bet:')\n",
        "print('Your bet:', number_bet, 'Number drawn:', number)\n",
        "print('¡You win!' if (number_bet == number) else '¡You lose!')\n",
        "  \n",
        "\n",
        "## Color result\n",
        "print('Results for your color bet:')\n",
        "if color_bet == '':\n",
        "  print('No bet was made')\n",
        "else:\n",
        "  print('Your color:', color_bet, 'Color drawn:', color)\n",
        "print('¡You win!' if (color_bet == color) else '¡You lose!')"
      ]
    }
  ]
}